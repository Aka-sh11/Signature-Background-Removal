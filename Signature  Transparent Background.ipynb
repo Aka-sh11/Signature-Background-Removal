{
 "cells": [
  {
   "cell_type": "code",
   "execution_count": null,
   "source": [
    "import cv2\r\n",
    "from PIL import Image\r\n",
    "\r\n",
    "img = cv2.imread('2.jpg', cv2.IMREAD_GRAYSCALE)\r\n",
    "\r\n",
    "# define a threshold\r\n",
    "thresh = 110\r\n",
    "\r\n",
    "# threshold the image\r\n",
    "img = cv2.threshold(img, thresh, 255, cv2.THRESH_BINARY)[1]\r\n",
    "\r\n",
    "#convert nparray data\r\n",
    "img = Image.fromarray(img)\r\n",
    "img = img.convert(\"RGBA\")\r\n",
    "\r\n",
    "pixdata = img.load()\r\n",
    "\r\n",
    "width, height = img.size\r\n",
    "for y in range(height):\r\n",
    "    for x in range(width):\r\n",
    "        if pixdata[x, y] == (255, 255, 255, 255):   #transparent\r\n",
    "            pixdata[x, y] = (255, 255, 255, 0)\r\n",
    "\r\n",
    "img.save(\"img2.png\", \"PNG\")\r\n"
   ],
   "outputs": [],
   "metadata": {
    "pycharm": {
     "name": "#%%\n",
     "is_executing": true
    }
   }
  }
 ],
 "metadata": {
  "kernelspec": {
   "name": "python3",
   "language": "python",
   "display_name": "Python 3 (ipykernel)"
  },
  "language_info": {
   "codemirror_mode": {
    "name": "ipython",
    "version": 3
   },
   "file_extension": ".py",
   "mimetype": "text/x-python",
   "name": "python",
   "nbconvert_exporter": "python",
   "pygments_lexer": "ipython3",
   "version": "3.8.2"
  }
 },
 "nbformat": 4,
 "nbformat_minor": 4
}